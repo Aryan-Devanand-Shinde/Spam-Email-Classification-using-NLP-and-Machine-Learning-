{
 "cells": [
  {
   "cell_type": "code",
   "execution_count": null,
   "id": "ca365ead-f6fc-4559-b330-b3d77e549a34",
   "metadata": {},
   "outputs": [],
   "source": [
    "!streamlit run stmlit_spam.py"
   ]
  },
  {
   "cell_type": "code",
   "execution_count": null,
   "id": "ed0b330a-0d2d-464f-bb04-06f8b276dffa",
   "metadata": {},
   "outputs": [],
   "source": []
  }
 ],
 "metadata": {
  "kernelspec": {
   "display_name": "Python 3 (ipykernel)",
   "language": "python",
   "name": "python3"
  },
  "language_info": {
   "codemirror_mode": {
    "name": "ipython",
    "version": 3
   },
   "file_extension": ".py",
   "mimetype": "text/x-python",
   "name": "python",
   "nbconvert_exporter": "python",
   "pygments_lexer": "ipython3",
   "version": "3.12.3"
  }
 },
 "nbformat": 4,
 "nbformat_minor": 5
}
